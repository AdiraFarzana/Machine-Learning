{
 "cells": [
  {
   "cell_type": "raw",
   "id": "810debbe",
   "metadata": {},
   "source": [
    "#install package\n",
    "pip install ml-utils"
   ]
  },
  {
   "cell_type": "raw",
   "id": "2e71ffa1",
   "metadata": {},
   "source": [
    "#install package\n",
    "pip install lime"
   ]
  },
  {
   "cell_type": "code",
   "execution_count": 1,
   "id": "e6b7fe6b",
   "metadata": {},
   "outputs": [],
   "source": [
    "## for data\n",
    "import pandas as pd\n",
    "import numpy as np\n",
    "\n",
    "## for plotting\n",
    "import matplotlib.pyplot as plt\n",
    "import seaborn as sns\n",
    "\n",
    "## for statistical tests\n",
    "import scipy\n",
    "import statsmodels.formula.api as smf\n",
    "import statsmodels.api as sm\n",
    "\n",
    "## for machine learning\n",
    "from sklearn import model_selection, preprocessing, feature_selection, ensemble, linear_model, metrics, decomposition\n",
    "from sklearn.preprocessing import LabelEncoder\n",
    "\n",
    "## for explainer\n",
    "from lime import lime_tabular"
   ]
  },
  {
   "cell_type": "code",
   "execution_count": 2,
   "id": "2f968d42",
   "metadata": {},
   "outputs": [
    {
     "data": {
      "text/html": [
       "<div>\n",
       "<style scoped>\n",
       "    .dataframe tbody tr th:only-of-type {\n",
       "        vertical-align: middle;\n",
       "    }\n",
       "\n",
       "    .dataframe tbody tr th {\n",
       "        vertical-align: top;\n",
       "    }\n",
       "\n",
       "    .dataframe thead th {\n",
       "        text-align: right;\n",
       "    }\n",
       "</style>\n",
       "<table border=\"1\" class=\"dataframe\">\n",
       "  <thead>\n",
       "    <tr style=\"text-align: right;\">\n",
       "      <th></th>\n",
       "      <th>PassengerId</th>\n",
       "      <th>Survived</th>\n",
       "      <th>Pclass</th>\n",
       "      <th>Name</th>\n",
       "      <th>Sex</th>\n",
       "      <th>Age</th>\n",
       "      <th>SibSp</th>\n",
       "      <th>Parch</th>\n",
       "      <th>Ticket</th>\n",
       "      <th>Fare</th>\n",
       "      <th>Cabin</th>\n",
       "      <th>Embarked</th>\n",
       "    </tr>\n",
       "  </thead>\n",
       "  <tbody>\n",
       "    <tr>\n",
       "      <th>0</th>\n",
       "      <td>1</td>\n",
       "      <td>0</td>\n",
       "      <td>3</td>\n",
       "      <td>Braund, Mr. Owen Harris</td>\n",
       "      <td>male</td>\n",
       "      <td>22.0</td>\n",
       "      <td>1</td>\n",
       "      <td>0</td>\n",
       "      <td>A/5 21171</td>\n",
       "      <td>7.2500</td>\n",
       "      <td>NaN</td>\n",
       "      <td>S</td>\n",
       "    </tr>\n",
       "    <tr>\n",
       "      <th>1</th>\n",
       "      <td>2</td>\n",
       "      <td>1</td>\n",
       "      <td>1</td>\n",
       "      <td>Cumings, Mrs. John Bradley (Florence Briggs Th...</td>\n",
       "      <td>female</td>\n",
       "      <td>38.0</td>\n",
       "      <td>1</td>\n",
       "      <td>0</td>\n",
       "      <td>PC 17599</td>\n",
       "      <td>71.2833</td>\n",
       "      <td>C85</td>\n",
       "      <td>C</td>\n",
       "    </tr>\n",
       "    <tr>\n",
       "      <th>2</th>\n",
       "      <td>3</td>\n",
       "      <td>1</td>\n",
       "      <td>3</td>\n",
       "      <td>Heikkinen, Miss. Laina</td>\n",
       "      <td>female</td>\n",
       "      <td>26.0</td>\n",
       "      <td>0</td>\n",
       "      <td>0</td>\n",
       "      <td>STON/O2. 3101282</td>\n",
       "      <td>7.9250</td>\n",
       "      <td>NaN</td>\n",
       "      <td>S</td>\n",
       "    </tr>\n",
       "    <tr>\n",
       "      <th>3</th>\n",
       "      <td>4</td>\n",
       "      <td>1</td>\n",
       "      <td>1</td>\n",
       "      <td>Futrelle, Mrs. Jacques Heath (Lily May Peel)</td>\n",
       "      <td>female</td>\n",
       "      <td>35.0</td>\n",
       "      <td>1</td>\n",
       "      <td>0</td>\n",
       "      <td>113803</td>\n",
       "      <td>53.1000</td>\n",
       "      <td>C123</td>\n",
       "      <td>S</td>\n",
       "    </tr>\n",
       "    <tr>\n",
       "      <th>4</th>\n",
       "      <td>5</td>\n",
       "      <td>0</td>\n",
       "      <td>3</td>\n",
       "      <td>Allen, Mr. William Henry</td>\n",
       "      <td>male</td>\n",
       "      <td>35.0</td>\n",
       "      <td>0</td>\n",
       "      <td>0</td>\n",
       "      <td>373450</td>\n",
       "      <td>8.0500</td>\n",
       "      <td>NaN</td>\n",
       "      <td>S</td>\n",
       "    </tr>\n",
       "  </tbody>\n",
       "</table>\n",
       "</div>"
      ],
      "text/plain": [
       "   PassengerId  Survived  Pclass  \\\n",
       "0            1         0       3   \n",
       "1            2         1       1   \n",
       "2            3         1       3   \n",
       "3            4         1       1   \n",
       "4            5         0       3   \n",
       "\n",
       "                                                Name     Sex   Age  SibSp  \\\n",
       "0                            Braund, Mr. Owen Harris    male  22.0      1   \n",
       "1  Cumings, Mrs. John Bradley (Florence Briggs Th...  female  38.0      1   \n",
       "2                             Heikkinen, Miss. Laina  female  26.0      0   \n",
       "3       Futrelle, Mrs. Jacques Heath (Lily May Peel)  female  35.0      1   \n",
       "4                           Allen, Mr. William Henry    male  35.0      0   \n",
       "\n",
       "   Parch            Ticket     Fare Cabin Embarked  \n",
       "0      0         A/5 21171   7.2500   NaN        S  \n",
       "1      0          PC 17599  71.2833   C85        C  \n",
       "2      0  STON/O2. 3101282   7.9250   NaN        S  \n",
       "3      0            113803  53.1000  C123        S  \n",
       "4      0            373450   8.0500   NaN        S  "
      ]
     },
     "execution_count": 2,
     "metadata": {},
     "output_type": "execute_result"
    }
   ],
   "source": [
    "dtf = pd.read_csv('train.csv')\n",
    "dtf.head()"
   ]
  },
  {
   "cell_type": "code",
   "execution_count": 3,
   "id": "8fc62b28",
   "metadata": {},
   "outputs": [
    {
     "data": {
      "text/plain": [
       "(891, 12)"
      ]
     },
     "execution_count": 3,
     "metadata": {},
     "output_type": "execute_result"
    }
   ],
   "source": [
    "#Return a tuple representing the dimensionality of the DataFrame\n",
    "dtf.shape"
   ]
  },
  {
   "cell_type": "code",
   "execution_count": 4,
   "id": "53ebdec9",
   "metadata": {},
   "outputs": [
    {
     "name": "stdout",
     "output_type": "stream",
     "text": [
      "<class 'pandas.core.frame.DataFrame'>\n",
      "RangeIndex: 891 entries, 0 to 890\n",
      "Data columns (total 12 columns):\n",
      " #   Column       Non-Null Count  Dtype  \n",
      "---  ------       --------------  -----  \n",
      " 0   PassengerId  891 non-null    int64  \n",
      " 1   Survived     891 non-null    int64  \n",
      " 2   Pclass       891 non-null    int64  \n",
      " 3   Name         891 non-null    object \n",
      " 4   Sex          891 non-null    object \n",
      " 5   Age          714 non-null    float64\n",
      " 6   SibSp        891 non-null    int64  \n",
      " 7   Parch        891 non-null    int64  \n",
      " 8   Ticket       891 non-null    object \n",
      " 9   Fare         891 non-null    float64\n",
      " 10  Cabin        204 non-null    object \n",
      " 11  Embarked     889 non-null    object \n",
      "dtypes: float64(2), int64(5), object(5)\n",
      "memory usage: 83.7+ KB\n"
     ]
    }
   ],
   "source": [
    "#summary of the dataframe\n",
    "dtf.info()"
   ]
  },
  {
   "cell_type": "code",
   "execution_count": 5,
   "id": "c2d21e28",
   "metadata": {},
   "outputs": [
    {
     "data": {
      "text/plain": [
       "PassengerId      0\n",
       "Survived         0\n",
       "Pclass           0\n",
       "Name             0\n",
       "Sex              0\n",
       "Age            177\n",
       "SibSp            0\n",
       "Parch            0\n",
       "Ticket           0\n",
       "Fare             0\n",
       "Cabin          687\n",
       "Embarked         2\n",
       "dtype: int64"
      ]
     },
     "execution_count": 5,
     "metadata": {},
     "output_type": "execute_result"
    }
   ],
   "source": [
    "#Missing values\n",
    "dtf.isnull().sum()"
   ]
  },
  {
   "cell_type": "code",
   "execution_count": 6,
   "id": "10a40bdd",
   "metadata": {},
   "outputs": [
    {
     "data": {
      "text/html": [
       "<div>\n",
       "<style scoped>\n",
       "    .dataframe tbody tr th:only-of-type {\n",
       "        vertical-align: middle;\n",
       "    }\n",
       "\n",
       "    .dataframe tbody tr th {\n",
       "        vertical-align: top;\n",
       "    }\n",
       "\n",
       "    .dataframe thead th {\n",
       "        text-align: right;\n",
       "    }\n",
       "</style>\n",
       "<table border=\"1\" class=\"dataframe\">\n",
       "  <thead>\n",
       "    <tr style=\"text-align: right;\">\n",
       "      <th></th>\n",
       "      <th>PassengerId</th>\n",
       "      <th>Survived</th>\n",
       "      <th>Pclass</th>\n",
       "      <th>Age</th>\n",
       "      <th>SibSp</th>\n",
       "      <th>Parch</th>\n",
       "      <th>Fare</th>\n",
       "    </tr>\n",
       "  </thead>\n",
       "  <tbody>\n",
       "    <tr>\n",
       "      <th>count</th>\n",
       "      <td>891.000000</td>\n",
       "      <td>891.000000</td>\n",
       "      <td>891.000000</td>\n",
       "      <td>714.000000</td>\n",
       "      <td>891.000000</td>\n",
       "      <td>891.000000</td>\n",
       "      <td>891.000000</td>\n",
       "    </tr>\n",
       "    <tr>\n",
       "      <th>mean</th>\n",
       "      <td>446.000000</td>\n",
       "      <td>0.383838</td>\n",
       "      <td>2.308642</td>\n",
       "      <td>29.699118</td>\n",
       "      <td>0.523008</td>\n",
       "      <td>0.381594</td>\n",
       "      <td>32.204208</td>\n",
       "    </tr>\n",
       "    <tr>\n",
       "      <th>std</th>\n",
       "      <td>257.353842</td>\n",
       "      <td>0.486592</td>\n",
       "      <td>0.836071</td>\n",
       "      <td>14.526497</td>\n",
       "      <td>1.102743</td>\n",
       "      <td>0.806057</td>\n",
       "      <td>49.693429</td>\n",
       "    </tr>\n",
       "    <tr>\n",
       "      <th>min</th>\n",
       "      <td>1.000000</td>\n",
       "      <td>0.000000</td>\n",
       "      <td>1.000000</td>\n",
       "      <td>0.420000</td>\n",
       "      <td>0.000000</td>\n",
       "      <td>0.000000</td>\n",
       "      <td>0.000000</td>\n",
       "    </tr>\n",
       "    <tr>\n",
       "      <th>25%</th>\n",
       "      <td>223.500000</td>\n",
       "      <td>0.000000</td>\n",
       "      <td>2.000000</td>\n",
       "      <td>20.125000</td>\n",
       "      <td>0.000000</td>\n",
       "      <td>0.000000</td>\n",
       "      <td>7.910400</td>\n",
       "    </tr>\n",
       "    <tr>\n",
       "      <th>50%</th>\n",
       "      <td>446.000000</td>\n",
       "      <td>0.000000</td>\n",
       "      <td>3.000000</td>\n",
       "      <td>28.000000</td>\n",
       "      <td>0.000000</td>\n",
       "      <td>0.000000</td>\n",
       "      <td>14.454200</td>\n",
       "    </tr>\n",
       "    <tr>\n",
       "      <th>75%</th>\n",
       "      <td>668.500000</td>\n",
       "      <td>1.000000</td>\n",
       "      <td>3.000000</td>\n",
       "      <td>38.000000</td>\n",
       "      <td>1.000000</td>\n",
       "      <td>0.000000</td>\n",
       "      <td>31.000000</td>\n",
       "    </tr>\n",
       "    <tr>\n",
       "      <th>max</th>\n",
       "      <td>891.000000</td>\n",
       "      <td>1.000000</td>\n",
       "      <td>3.000000</td>\n",
       "      <td>80.000000</td>\n",
       "      <td>8.000000</td>\n",
       "      <td>6.000000</td>\n",
       "      <td>512.329200</td>\n",
       "    </tr>\n",
       "  </tbody>\n",
       "</table>\n",
       "</div>"
      ],
      "text/plain": [
       "       PassengerId    Survived      Pclass         Age       SibSp  \\\n",
       "count   891.000000  891.000000  891.000000  714.000000  891.000000   \n",
       "mean    446.000000    0.383838    2.308642   29.699118    0.523008   \n",
       "std     257.353842    0.486592    0.836071   14.526497    1.102743   \n",
       "min       1.000000    0.000000    1.000000    0.420000    0.000000   \n",
       "25%     223.500000    0.000000    2.000000   20.125000    0.000000   \n",
       "50%     446.000000    0.000000    3.000000   28.000000    0.000000   \n",
       "75%     668.500000    1.000000    3.000000   38.000000    1.000000   \n",
       "max     891.000000    1.000000    3.000000   80.000000    8.000000   \n",
       "\n",
       "            Parch        Fare  \n",
       "count  891.000000  891.000000  \n",
       "mean     0.381594   32.204208  \n",
       "std      0.806057   49.693429  \n",
       "min      0.000000    0.000000  \n",
       "25%      0.000000    7.910400  \n",
       "50%      0.000000   14.454200  \n",
       "75%      0.000000   31.000000  \n",
       "max      6.000000  512.329200  "
      ]
     },
     "execution_count": 6,
     "metadata": {},
     "output_type": "execute_result"
    }
   ],
   "source": [
    "#basic statistic\n",
    "dtf.describe()"
   ]
  },
  {
   "cell_type": "code",
   "execution_count": 7,
   "id": "c5e118e2",
   "metadata": {},
   "outputs": [
    {
     "data": {
      "text/html": [
       "<div>\n",
       "<style scoped>\n",
       "    .dataframe tbody tr th:only-of-type {\n",
       "        vertical-align: middle;\n",
       "    }\n",
       "\n",
       "    .dataframe tbody tr th {\n",
       "        vertical-align: top;\n",
       "    }\n",
       "\n",
       "    .dataframe thead th {\n",
       "        text-align: right;\n",
       "    }\n",
       "</style>\n",
       "<table border=\"1\" class=\"dataframe\">\n",
       "  <thead>\n",
       "    <tr style=\"text-align: right;\">\n",
       "      <th></th>\n",
       "      <th>PassengerId</th>\n",
       "      <th>Survived</th>\n",
       "      <th>Pclass</th>\n",
       "      <th>Name</th>\n",
       "      <th>Sex</th>\n",
       "      <th>Age</th>\n",
       "      <th>SibSp</th>\n",
       "      <th>Parch</th>\n",
       "      <th>Ticket</th>\n",
       "      <th>Fare</th>\n",
       "      <th>Cabin</th>\n",
       "      <th>Embarked</th>\n",
       "    </tr>\n",
       "  </thead>\n",
       "  <tbody>\n",
       "  </tbody>\n",
       "</table>\n",
       "</div>"
      ],
      "text/plain": [
       "Empty DataFrame\n",
       "Columns: [PassengerId, Survived, Pclass, Name, Sex, Age, SibSp, Parch, Ticket, Fare, Cabin, Embarked]\n",
       "Index: []"
      ]
     },
     "execution_count": 7,
     "metadata": {},
     "output_type": "execute_result"
    }
   ],
   "source": [
    "#check duplicate\n",
    "dtf.loc[dtf.duplicated()]"
   ]
  },
  {
   "cell_type": "code",
   "execution_count": 8,
   "id": "c79e4ada",
   "metadata": {},
   "outputs": [],
   "source": [
    "'''\n",
    "Recognize whether a column is numerical or categorical.\n",
    ":parameter\n",
    "    :param dtf: dataframe - input data\n",
    "    :param col: str - name of the column to analyze\n",
    "    :param max_cat: num - max number of unique values to recognize a column as categorical\n",
    ":return\n",
    "    \"cat\" if the column is categorical or \"num\" otherwise\n",
    "'''\n",
    "def utils_recognize_type(dtf, col, max_cat=20):\n",
    "    if (dtf[col].dtype == \"O\") | (dtf[col].nunique() < max_cat):\n",
    "        return \"cat\"\n",
    "    else:\n",
    "        return \"num\""
   ]
  },
  {
   "cell_type": "code",
   "execution_count": 9,
   "id": "309f6273",
   "metadata": {},
   "outputs": [
    {
     "data": {
      "image/png": "[encoded data removed]",
      "text/plain": [
       "<Figure size 432x288 with 1 Axes>"
      ]
     },
     "metadata": {
      "needs_background": "light"
     },
     "output_type": "display_data"
    },
    {
     "name": "stdout",
     "output_type": "stream",
     "text": [
      "\u001b[1;37;40m Categerocial  \u001b[1;30;41m Numeric  \u001b[1;30;47m NaN \n"
     ]
    }
   ],
   "source": [
    "dic_cols = {col:utils_recognize_type(dtf, col, max_cat=20) for col in dtf.columns}\n",
    "heatmap = dtf.isnull()\n",
    "for k,v in dic_cols.items():\n",
    " if v == \"num\":\n",
    "   heatmap[k] = heatmap[k].apply(lambda x: 0.5 if x is False else 1)\n",
    " else:\n",
    "   heatmap[k] = heatmap[k].apply(lambda x: 0 if x is False else 1)\n",
    "sns.heatmap(heatmap, cbar=False).set_title('Dataset Overview')\n",
    "plt.show()\n",
    "print(\"\\033[1;37;40m Categerocial \", \"\\033[1;30;41m Numeric \", \"\\033[1;30;47m NaN \")"
   ]
  },
  {
   "cell_type": "markdown",
   "id": "6853a895",
   "metadata": {},
   "source": [
    "Age and Fare are numerical variables while the others are categorical.\n",
    "Only Age and Cabin contain missing data."
   ]
  },
  {
   "cell_type": "code",
   "execution_count": 10,
   "id": "a4722231",
   "metadata": {},
   "outputs": [],
   "source": [
    "#PassengerId as index or primary key of the table/dataframe\n",
    "dtf = dtf.set_index(\"PassengerId\")\n",
    "#Survived is the phenomenon that we want to understand and predict (or target variable).\n",
    "#1 if the passenger survived and 0 otherwise, therefore this use case is a binary classification problem\n",
    "dtf = dtf.rename(columns={\"Survived\":\"Y\"})"
   ]
  },
  {
   "cell_type": "markdown",
   "id": "c853672b",
   "metadata": {},
   "source": [
    "<b>Exploratory Data Analysis</b>"
   ]
  },
  {
   "cell_type": "code",
   "execution_count": 11,
   "id": "65831081",
   "metadata": {},
   "outputs": [
    {
     "data": {
      "image/png": "[encoded data removed]",
      "text/plain": [
       "<Figure size 432x288 with 1 Axes>"
      ]
     },
     "metadata": {
      "needs_background": "light"
     },
     "output_type": "display_data"
    }
   ],
   "source": [
    "y = \"Y\"\n",
    "ax = dtf[y].value_counts().sort_values().plot(kind=\"barh\")\n",
    "totals= []\n",
    "for i in ax.patches:\n",
    "    totals.append(i.get_width())\n",
    "total = sum(totals)\n",
    "for i in ax.patches:\n",
    "     ax.text(i.get_width()+.3, i.get_y()+.20, \n",
    "     str(round((i.get_width()/total)*100, 2))+'%', \n",
    "     fontsize=10, color='black')\n",
    "ax.grid(axis=\"x\")\n",
    "plt.suptitle(y, fontsize=20)\n",
    "plt.show()"
   ]
  },
  {
   "cell_type": "code",
   "execution_count": 12,
   "id": "0bdf85d6",
   "metadata": {},
   "outputs": [
    {
     "data": {
      "text/plain": [
       "Name        891\n",
       "Sex           2\n",
       "Ticket      681\n",
       "Cabin       147\n",
       "Embarked      3\n",
       "dtype: int64"
      ]
     },
     "execution_count": 12,
     "metadata": {},
     "output_type": "execute_result"
    }
   ],
   "source": [
    "# lets check the number of unique items present in the categorical column\n",
    "\n",
    "dtf.select_dtypes('object').nunique()"
   ]
  },
  {
   "cell_type": "code",
   "execution_count": 13,
   "id": "6f8fa39c",
   "metadata": {},
   "outputs": [
    {
     "data": {
      "text/plain": [
       "Text(0, 0.5, 'Age')"
      ]
     },
     "execution_count": 13,
     "metadata": {},
     "output_type": "execute_result"
    },
    {
     "data": {
      "image/png": "[encoded data removed]",
      "text/plain": [
       "<Figure size 1080x432 with 1 Axes>"
      ]
     },
     "metadata": {
      "needs_background": "light"
     },
     "output_type": "display_data"
    }
   ],
   "source": [
    "plt.figure(figsize=(15,6))\n",
    "plt.subplot(1, 2, 1)\n",
    "fig = dtf.boxplot(column=['Age'])\n",
    "fig.set_title('outliers Age')\n",
    "fig.set_ylabel('Age')"
   ]
  },
  {
   "cell_type": "code",
   "execution_count": 14,
   "id": "1f9f74fd",
   "metadata": {},
   "outputs": [
    {
     "data": {
      "text/plain": [
       "0"
      ]
     },
     "execution_count": 14,
     "metadata": {},
     "output_type": "execute_result"
    }
   ],
   "source": [
    "dtf[(dtf['Age']<0) | (dtf['Age']>80)].size"
   ]
  },
  {
   "cell_type": "code",
   "execution_count": 15,
   "id": "77916ed1",
   "metadata": {},
   "outputs": [
    {
     "data": {
      "text/plain": [
       "Text(0, 0.5, 'Fare')"
      ]
     },
     "execution_count": 15,
     "metadata": {},
     "output_type": "execute_result"
    },
    {
     "data": {
      "image/png": "[encoded data removed]",
      "text/plain": [
       "<Figure size 1080x432 with 1 Axes>"
      ]
     },
     "metadata": {
      "needs_background": "light"
     },
     "output_type": "display_data"
    }
   ],
   "source": [
    "plt.figure(figsize=(15,6))\n",
    "plt.subplot(1, 2, 1)\n",
    "fig = dtf.boxplot(column=['Fare'])\n",
    "fig.set_title('outliers Fare')\n",
    "fig.set_ylabel('Fare')"
   ]
  },
  {
   "cell_type": "code",
   "execution_count": 16,
   "id": "ffbbcf3f",
   "metadata": {},
   "outputs": [
    {
     "name": "stderr",
     "output_type": "stream",
     "text": [
      "C:\\Users\\User\\Adira\\lib\\site-packages\\seaborn\\distributions.py:2557: FutureWarning: `distplot` is a deprecated function and will be removed in a future version. Please adapt your code to use either `displot` (a figure-level function with similar flexibility) or `histplot` (an axes-level function for histograms).\n",
      "  warnings.warn(msg, FutureWarning)\n"
     ]
    },
    {
     "data": {
      "image/png": "[encoded data removed]",
      "text/plain": [
       "<Figure size 432x288 with 2 Axes>"
      ]
     },
     "metadata": {
      "needs_background": "light"
     },
     "output_type": "display_data"
    }
   ],
   "source": [
    "x = \"Age\"\n",
    "fig, ax = plt.subplots(nrows=1, ncols=2,  sharex=False, sharey=False)\n",
    "fig.suptitle(x, fontsize=20)\n",
    "\n",
    "#a histogram is perfect to give a rough sense of the density of the underlying distribution of a single numerical data\n",
    "### distribution\n",
    "ax[0].title.set_text('distribution')\n",
    "variable = dtf[x].fillna(dtf[x].mean())\n",
    "breaks = np.quantile(variable, q=np.linspace(0, 1, 11))\n",
    "variable = variable[ (variable > breaks[0]) & (variable < \n",
    "                    breaks[10]) ]\n",
    "sns.distplot(variable, hist=True, kde=True, kde_kws={\"shade\": True}, ax=ax[0])\n",
    "des = dtf[x].describe()\n",
    "ax[0].axvline(des[\"25%\"], ls='--')\n",
    "ax[0].axvline(des[\"mean\"], ls='--')\n",
    "ax[0].axvline(des[\"75%\"], ls='--')\n",
    "ax[0].grid(True)\n",
    "des = round(des, 2).apply(lambda x: str(x))\n",
    "box = '\\n'.join((\"min: \"+des[\"min\"], \"25%: \"+des[\"25%\"], \"mean: \"+des[\"mean\"], \"75%: \"+des[\"75%\"], \"max: \"+des[\"max\"]))\n",
    "ax[0].text(0.95, 0.95, box, transform=ax[0].transAxes, fontsize=10, va='top', ha=\"right\", bbox=dict(boxstyle='round', facecolor='white', alpha=1))\n",
    "#using a box plot to graphically depict data groups through their quartiles\n",
    "### boxplot \n",
    "ax[1].title.set_text('outliers (log scale)')\n",
    "tmp_dtf = pd.DataFrame(dtf[x])\n",
    "tmp_dtf[x] = np.log(tmp_dtf[x])\n",
    "tmp_dtf.boxplot(column=x, ax=ax[1])\n",
    "plt.show()"
   ]
  },
  {
   "cell_type": "markdown",
   "id": "5d1ee10a",
   "metadata": {},
   "source": [
    "<h6>analysis to the next level and look into the bivariate distribution to understand if Age has predictive power to predict Y. This would be the case of categorical (Y) vs numerical (Age)</h6>"
   ]
  },
  {
   "cell_type": "code",
   "execution_count": 17,
   "id": "803d5501",
   "metadata": {},
   "outputs": [
    {
     "name": "stderr",
     "output_type": "stream",
     "text": [
      "C:\\Users\\User\\Adira\\lib\\site-packages\\seaborn\\distributions.py:2557: FutureWarning: `distplot` is a deprecated function and will be removed in a future version. Please adapt your code to use either `displot` (a figure-level function with similar flexibility) or `kdeplot` (an axes-level function for kernel density plots).\n",
      "  warnings.warn(msg, FutureWarning)\n",
      "C:\\Users\\User\\Adira\\lib\\site-packages\\seaborn\\distributions.py:2557: FutureWarning: `distplot` is a deprecated function and will be removed in a future version. Please adapt your code to use either `displot` (a figure-level function with similar flexibility) or `kdeplot` (an axes-level function for kernel density plots).\n",
      "  warnings.warn(msg, FutureWarning)\n"
     ]
    },
    {
     "data": {
      "image/png": "[encoded data removed]",
      "text/plain": [
       "<Figure size 432x288 with 2 Axes>"
      ]
     },
     "metadata": {
      "needs_background": "light"
     },
     "output_type": "display_data"
    }
   ],
   "source": [
    "cat, num = \"Y\", \"Age\"\n",
    "fig, ax = plt.subplots(nrows=1, ncols=2,  sharex=False, sharey=False)\n",
    "fig.suptitle(x+\"   vs   \"+y, fontsize=20)\n",
    "            \n",
    "### distribution\n",
    "ax[0].title.set_text('density')\n",
    "for i in dtf[cat].unique():\n",
    "    sns.distplot(dtf[dtf[cat]==i][num], hist=False, label=i, ax=ax[0])\n",
    "ax[0].grid(True)\n",
    "\n",
    "### boxplot   \n",
    "ax[1].title.set_text('outliers')\n",
    "sns.boxplot(x=cat, y=num, data=dtf, ax=ax[1])\n",
    "ax[1].grid(True)\n",
    "plt.show()"
   ]
  },
  {
   "cell_type": "code",
   "execution_count": 18,
   "id": "a9084f11",
   "metadata": {},
   "outputs": [
    {
     "name": "stdout",
     "output_type": "stream",
     "text": [
      "Anova F: the variables are Correlated (p-value: 0.039)\n"
     ]
    }
   ],
   "source": [
    "#categorical (Y) vs numerical (Age), I would use a one-way ANOVA test. \n",
    "#Basically, it tests whether the means of two or more independent samples are significantly different, \n",
    "#so if the p-value is small enough (<0.05) the null hypothesis of samples means equality can be rejected\n",
    "\n",
    "cat, num = \"Y\", \"Age\"\n",
    "model = smf.ols(num+' ~ '+cat, data=dtf).fit()\n",
    "table = sm.stats.anova_lm(model)\n",
    "p = table[\"PR(>F)\"][0]\n",
    "coeff, p = None, round(p, 3)\n",
    "conclusion = \"Correlated\" if p < 0.05 else \"Non-Correlated\"\n",
    "print(\"Anova F: the variables are\", conclusion, \"(p-value: \"+str(p)+\")\")"
   ]
  },
  {
   "cell_type": "code",
   "execution_count": 19,
   "id": "40a10e8d",
   "metadata": {},
   "outputs": [
    {
     "name": "stderr",
     "output_type": "stream",
     "text": [
      "C:\\Users\\User\\Adira\\lib\\site-packages\\seaborn\\categorical.py:3772: UserWarning: catplot is a figure-level function and does not accept target axes. You may wish to try countplot\n",
      "  warnings.warn(msg, UserWarning)\n"
     ]
    },
    {
     "data": {
      "image/png": "[encoded data removed]",
      "text/plain": [
       "<Figure size 402.375x360 with 1 Axes>"
      ]
     },
     "metadata": {
      "needs_background": "light"
     },
     "output_type": "display_data"
    }
   ],
   "source": [
    "x, y = \"Sex\", \"Y\"\n",
    "\n",
    "### count\n",
    "order = dtf.groupby(x)[y].count().index.tolist()\n",
    "sns.catplot(x=x, hue=y, data=dtf, kind='count', order=order, ax=ax)\n",
    "plt.title('Sex vs Y')\n",
    "\n",
    "plt.show()"
   ]
  },
  {
   "cell_type": "code",
   "execution_count": 20,
   "id": "71d8125a",
   "metadata": {},
   "outputs": [
    {
     "name": "stdout",
     "output_type": "stream",
     "text": [
      "Cramer Correlation: 0.54 Significant (p-value:0.0)\n"
     ]
    }
   ],
   "source": [
    "#both categorical, I’d use a Chi-Square test: assuming that two variables are independent (null hypothesis), \n",
    "#it tests whether the values of the contingency table for these variables are uniformly distributed. \n",
    "#If the p-value is small enough (<0.05), the null hypothesis can be rejected and we can say that the two \n",
    "#variables are probably dependent\n",
    "\n",
    "x, y = \"Sex\", \"Y\"\n",
    "cont_table = pd.crosstab(index=dtf[x], columns=dtf[y])\n",
    "chi2_test = scipy.stats.chi2_contingency(cont_table)\n",
    "chi2, p = chi2_test[0], chi2_test[1]\n",
    "n = cont_table.sum().sum()\n",
    "phi2 = chi2/n\n",
    "r,k = cont_table.shape\n",
    "phi2corr = max(0, phi2-((k-1)*(r-1))/(n-1))\n",
    "rcorr = r-((r-1)**2)/(n-1)\n",
    "kcorr = k-((k-1)**2)/(n-1)\n",
    "coeff = np.sqrt(phi2corr/min((kcorr-1), (rcorr-1)))\n",
    "coeff, p = round(coeff, 3), round(p, 3)\n",
    "conclusion = \"Significant\" if p < 0.05 else \"Non-Significant\"\n",
    "print(\"Cramer Correlation:\", coeff, conclusion, \"(p-value:\"+str(p)+\")\")"
   ]
  },
  {
   "cell_type": "markdown",
   "id": "f5198c20",
   "metadata": {},
   "source": [
    "<b>Data Preprocessing</b>"
   ]
  },
  {
   "cell_type": "code",
   "execution_count": 21,
   "id": "017ce66e",
   "metadata": {},
   "outputs": [
    {
     "data": {
      "text/html": [
       "<div>\n",
       "<style scoped>\n",
       "    .dataframe tbody tr th:only-of-type {\n",
       "        vertical-align: middle;\n",
       "    }\n",
       "\n",
       "    .dataframe tbody tr th {\n",
       "        vertical-align: top;\n",
       "    }\n",
       "\n",
       "    .dataframe thead th {\n",
       "        text-align: right;\n",
       "    }\n",
       "</style>\n",
       "<table border=\"1\" class=\"dataframe\">\n",
       "  <thead>\n",
       "    <tr style=\"text-align: right;\">\n",
       "      <th></th>\n",
       "      <th>Y</th>\n",
       "      <th>Pclass</th>\n",
       "      <th>Name</th>\n",
       "      <th>Sex</th>\n",
       "      <th>Age</th>\n",
       "      <th>SibSp</th>\n",
       "      <th>Parch</th>\n",
       "      <th>Ticket</th>\n",
       "      <th>Fare</th>\n",
       "      <th>Cabin</th>\n",
       "      <th>Embarked</th>\n",
       "      <th>Cabin_section</th>\n",
       "    </tr>\n",
       "    <tr>\n",
       "      <th>PassengerId</th>\n",
       "      <th></th>\n",
       "      <th></th>\n",
       "      <th></th>\n",
       "      <th></th>\n",
       "      <th></th>\n",
       "      <th></th>\n",
       "      <th></th>\n",
       "      <th></th>\n",
       "      <th></th>\n",
       "      <th></th>\n",
       "      <th></th>\n",
       "      <th></th>\n",
       "    </tr>\n",
       "  </thead>\n",
       "  <tbody>\n",
       "    <tr>\n",
       "      <th>1</th>\n",
       "      <td>0</td>\n",
       "      <td>3</td>\n",
       "      <td>Braund, Mr. Owen Harris</td>\n",
       "      <td>male</td>\n",
       "      <td>22.0</td>\n",
       "      <td>1</td>\n",
       "      <td>0</td>\n",
       "      <td>A/5 21171</td>\n",
       "      <td>7.2500</td>\n",
       "      <td>NaN</td>\n",
       "      <td>S</td>\n",
       "      <td>n</td>\n",
       "    </tr>\n",
       "    <tr>\n",
       "      <th>2</th>\n",
       "      <td>1</td>\n",
       "      <td>1</td>\n",
       "      <td>Cumings, Mrs. John Bradley (Florence Briggs Th...</td>\n",
       "      <td>female</td>\n",
       "      <td>38.0</td>\n",
       "      <td>1</td>\n",
       "      <td>0</td>\n",
       "      <td>PC 17599</td>\n",
       "      <td>71.2833</td>\n",
       "      <td>C85</td>\n",
       "      <td>C</td>\n",
       "      <td>C</td>\n",
       "    </tr>\n",
       "    <tr>\n",
       "      <th>3</th>\n",
       "      <td>1</td>\n",
       "      <td>3</td>\n",
       "      <td>Heikkinen, Miss. Laina</td>\n",
       "      <td>female</td>\n",
       "      <td>26.0</td>\n",
       "      <td>0</td>\n",
       "      <td>0</td>\n",
       "      <td>STON/O2. 3101282</td>\n",
       "      <td>7.9250</td>\n",
       "      <td>NaN</td>\n",
       "      <td>S</td>\n",
       "      <td>n</td>\n",
       "    </tr>\n",
       "    <tr>\n",
       "      <th>4</th>\n",
       "      <td>1</td>\n",
       "      <td>1</td>\n",
       "      <td>Futrelle, Mrs. Jacques Heath (Lily May Peel)</td>\n",
       "      <td>female</td>\n",
       "      <td>35.0</td>\n",
       "      <td>1</td>\n",
       "      <td>0</td>\n",
       "      <td>113803</td>\n",
       "      <td>53.1000</td>\n",
       "      <td>C123</td>\n",
       "      <td>S</td>\n",
       "      <td>C</td>\n",
       "    </tr>\n",
       "    <tr>\n",
       "      <th>5</th>\n",
       "      <td>0</td>\n",
       "      <td>3</td>\n",
       "      <td>Allen, Mr. William Henry</td>\n",
       "      <td>male</td>\n",
       "      <td>35.0</td>\n",
       "      <td>0</td>\n",
       "      <td>0</td>\n",
       "      <td>373450</td>\n",
       "      <td>8.0500</td>\n",
       "      <td>NaN</td>\n",
       "      <td>S</td>\n",
       "      <td>n</td>\n",
       "    </tr>\n",
       "  </tbody>\n",
       "</table>\n",
       "</div>"
      ],
      "text/plain": [
       "             Y  Pclass                                               Name  \\\n",
       "PassengerId                                                                 \n",
       "1            0       3                            Braund, Mr. Owen Harris   \n",
       "2            1       1  Cumings, Mrs. John Bradley (Florence Briggs Th...   \n",
       "3            1       3                             Heikkinen, Miss. Laina   \n",
       "4            1       1       Futrelle, Mrs. Jacques Heath (Lily May Peel)   \n",
       "5            0       3                           Allen, Mr. William Henry   \n",
       "\n",
       "                Sex   Age  SibSp  Parch            Ticket     Fare Cabin  \\\n",
       "PassengerId                                                                \n",
       "1              male  22.0      1      0         A/5 21171   7.2500   NaN   \n",
       "2            female  38.0      1      0          PC 17599  71.2833   C85   \n",
       "3            female  26.0      0      0  STON/O2. 3101282   7.9250   NaN   \n",
       "4            female  35.0      1      0            113803  53.1000  C123   \n",
       "5              male  35.0      0      0            373450   8.0500   NaN   \n",
       "\n",
       "            Embarked Cabin_section  \n",
       "PassengerId                         \n",
       "1                  S             n  \n",
       "2                  C             C  \n",
       "3                  S             n  \n",
       "4                  S             C  \n",
       "5                  S             n  "
      ]
     },
     "execution_count": 21,
     "metadata": {},
     "output_type": "execute_result"
    }
   ],
   "source": [
    "## Create new column\n",
    "dtf[\"Cabin_section\"] = dtf[\"Cabin\"].apply(lambda x: str(x)[0])\n",
    "dtf.head()"
   ]
  },
  {
   "cell_type": "code",
   "execution_count": 22,
   "id": "15041dab",
   "metadata": {},
   "outputs": [
    {
     "data": {
      "text/plain": [
       "Text(0.5, 1.0, 'Cabin_section vs Pclass (filter: Y)')"
      ]
     },
     "execution_count": 22,
     "metadata": {},
     "output_type": "execute_result"
    },
    {
     "data": {
      "image/png": "[encoded data removed]",
      "text/plain": [
       "<Figure size 432x288 with 2 Axes>"
      ]
     },
     "metadata": {
      "needs_background": "light"
     },
     "output_type": "display_data"
    }
   ],
   "source": [
    "## Plot contingency table\n",
    "cont_table = pd.crosstab(index=dtf[\"Cabin_section\"], \n",
    "             columns=dtf[\"Pclass\"], values=dtf[\"Y\"], aggfunc=\"sum\")\n",
    "sns.heatmap(cont_table, annot=True, cmap=\"YlGnBu\", fmt='.0f',\n",
    "            linewidths=.5).set_title( \n",
    "            'Cabin_section vs Pclass (filter: Y)' )"
   ]
  },
  {
   "cell_type": "code",
   "execution_count": 23,
   "id": "763f9357",
   "metadata": {},
   "outputs": [
    {
     "data": {
      "text/html": [
       "<div>\n",
       "<style scoped>\n",
       "    .dataframe tbody tr th:only-of-type {\n",
       "        vertical-align: middle;\n",
       "    }\n",
       "\n",
       "    .dataframe tbody tr th {\n",
       "        vertical-align: top;\n",
       "    }\n",
       "\n",
       "    .dataframe thead th {\n",
       "        text-align: right;\n",
       "    }\n",
       "</style>\n",
       "<table border=\"1\" class=\"dataframe\">\n",
       "  <thead>\n",
       "    <tr style=\"text-align: right;\">\n",
       "      <th></th>\n",
       "      <th>Y</th>\n",
       "      <th>Pclass</th>\n",
       "      <th>Name</th>\n",
       "      <th>Sex</th>\n",
       "      <th>Age</th>\n",
       "      <th>SibSp</th>\n",
       "      <th>Parch</th>\n",
       "      <th>Ticket</th>\n",
       "      <th>Fare</th>\n",
       "      <th>Cabin</th>\n",
       "      <th>Embarked</th>\n",
       "      <th>Cabin_section</th>\n",
       "    </tr>\n",
       "    <tr>\n",
       "      <th>PassengerId</th>\n",
       "      <th></th>\n",
       "      <th></th>\n",
       "      <th></th>\n",
       "      <th></th>\n",
       "      <th></th>\n",
       "      <th></th>\n",
       "      <th></th>\n",
       "      <th></th>\n",
       "      <th></th>\n",
       "      <th></th>\n",
       "      <th></th>\n",
       "      <th></th>\n",
       "    </tr>\n",
       "  </thead>\n",
       "  <tbody>\n",
       "    <tr>\n",
       "      <th>1</th>\n",
       "      <td>0</td>\n",
       "      <td>3</td>\n",
       "      <td>Braund, Mr. Owen Harris</td>\n",
       "      <td>male</td>\n",
       "      <td>22.0</td>\n",
       "      <td>1</td>\n",
       "      <td>0</td>\n",
       "      <td>A/5 21171</td>\n",
       "      <td>7.2500</td>\n",
       "      <td>NaN</td>\n",
       "      <td>S</td>\n",
       "      <td>n</td>\n",
       "    </tr>\n",
       "    <tr>\n",
       "      <th>2</th>\n",
       "      <td>1</td>\n",
       "      <td>1</td>\n",
       "      <td>Cumings, Mrs. John Bradley (Florence Briggs Th...</td>\n",
       "      <td>female</td>\n",
       "      <td>38.0</td>\n",
       "      <td>1</td>\n",
       "      <td>0</td>\n",
       "      <td>PC 17599</td>\n",
       "      <td>71.2833</td>\n",
       "      <td>C85</td>\n",
       "      <td>C</td>\n",
       "      <td>C</td>\n",
       "    </tr>\n",
       "    <tr>\n",
       "      <th>3</th>\n",
       "      <td>1</td>\n",
       "      <td>3</td>\n",
       "      <td>Heikkinen, Miss. Laina</td>\n",
       "      <td>female</td>\n",
       "      <td>26.0</td>\n",
       "      <td>0</td>\n",
       "      <td>0</td>\n",
       "      <td>STON/O2. 3101282</td>\n",
       "      <td>7.9250</td>\n",
       "      <td>NaN</td>\n",
       "      <td>S</td>\n",
       "      <td>n</td>\n",
       "    </tr>\n",
       "    <tr>\n",
       "      <th>4</th>\n",
       "      <td>1</td>\n",
       "      <td>1</td>\n",
       "      <td>Futrelle, Mrs. Jacques Heath (Lily May Peel)</td>\n",
       "      <td>female</td>\n",
       "      <td>35.0</td>\n",
       "      <td>1</td>\n",
       "      <td>0</td>\n",
       "      <td>113803</td>\n",
       "      <td>53.1000</td>\n",
       "      <td>C123</td>\n",
       "      <td>S</td>\n",
       "      <td>C</td>\n",
       "    </tr>\n",
       "    <tr>\n",
       "      <th>5</th>\n",
       "      <td>0</td>\n",
       "      <td>3</td>\n",
       "      <td>Allen, Mr. William Henry</td>\n",
       "      <td>male</td>\n",
       "      <td>35.0</td>\n",
       "      <td>0</td>\n",
       "      <td>0</td>\n",
       "      <td>373450</td>\n",
       "      <td>8.0500</td>\n",
       "      <td>NaN</td>\n",
       "      <td>S</td>\n",
       "      <td>n</td>\n",
       "    </tr>\n",
       "  </tbody>\n",
       "</table>\n",
       "</div>"
      ],
      "text/plain": [
       "             Y  Pclass                                               Name  \\\n",
       "PassengerId                                                                 \n",
       "1            0       3                            Braund, Mr. Owen Harris   \n",
       "2            1       1  Cumings, Mrs. John Bradley (Florence Briggs Th...   \n",
       "3            1       3                             Heikkinen, Miss. Laina   \n",
       "4            1       1       Futrelle, Mrs. Jacques Heath (Lily May Peel)   \n",
       "5            0       3                           Allen, Mr. William Henry   \n",
       "\n",
       "                Sex   Age  SibSp  Parch            Ticket     Fare Cabin  \\\n",
       "PassengerId                                                                \n",
       "1              male  22.0      1      0         A/5 21171   7.2500   NaN   \n",
       "2            female  38.0      1      0          PC 17599  71.2833   C85   \n",
       "3            female  26.0      0      0  STON/O2. 3101282   7.9250   NaN   \n",
       "4            female  35.0      1      0            113803  53.1000  C123   \n",
       "5              male  35.0      0      0            373450   8.0500   NaN   \n",
       "\n",
       "            Embarked Cabin_section  \n",
       "PassengerId                         \n",
       "1                  S             n  \n",
       "2                  C             C  \n",
       "3                  S             n  \n",
       "4                  S             C  \n",
       "5                  S             n  "
      ]
     },
     "execution_count": 23,
     "metadata": {},
     "output_type": "execute_result"
    }
   ],
   "source": [
    "dtf.head()"
   ]
  },
  {
   "cell_type": "code",
   "execution_count": 24,
   "id": "cb2bcc1c",
   "metadata": {},
   "outputs": [],
   "source": [
    "#drop col with a lot of missing values\n",
    "dtf=dtf.drop(columns=['Name','Cabin'])"
   ]
  },
  {
   "cell_type": "code",
   "execution_count": 25,
   "id": "46f1a150",
   "metadata": {},
   "outputs": [
    {
     "name": "stdout",
     "output_type": "stream",
     "text": [
      "Index(['Sex', 'Ticket', 'Embarked', 'Cabin_section'], dtype='object')\n"
     ]
    }
   ],
   "source": [
    "objList = dtf.select_dtypes(include = \"object\").columns\n",
    "print (objList)"
   ]
  },
  {
   "cell_type": "code",
   "execution_count": 26,
   "id": "a959f63a",
   "metadata": {},
   "outputs": [
    {
     "name": "stdout",
     "output_type": "stream",
     "text": [
      "<class 'pandas.core.frame.DataFrame'>\n",
      "Int64Index: 891 entries, 1 to 891\n",
      "Data columns (total 10 columns):\n",
      " #   Column         Non-Null Count  Dtype  \n",
      "---  ------         --------------  -----  \n",
      " 0   Y              891 non-null    int64  \n",
      " 1   Pclass         891 non-null    int64  \n",
      " 2   Sex            891 non-null    int32  \n",
      " 3   Age            714 non-null    float64\n",
      " 4   SibSp          891 non-null    int64  \n",
      " 5   Parch          891 non-null    int64  \n",
      " 6   Ticket         891 non-null    int32  \n",
      " 7   Fare           891 non-null    float64\n",
      " 8   Embarked       891 non-null    int32  \n",
      " 9   Cabin_section  891 non-null    int32  \n",
      "dtypes: float64(2), int32(4), int64(4)\n",
      "memory usage: 94.9 KB\n",
      "None\n"
     ]
    }
   ],
   "source": [
    "#Label Encoding for object to numeric conversion\n",
    "#from sklearn.preprocessing import LabelEncoder\n",
    "le = LabelEncoder()\n",
    "\n",
    "for feat in objList:\n",
    "    dtf[feat] = le.fit_transform(dtf[feat].astype(str))\n",
    "\n",
    "print (dtf.info())"
   ]
  },
  {
   "cell_type": "code",
   "execution_count": 27,
   "id": "933726af",
   "metadata": {},
   "outputs": [
    {
     "data": {
      "text/html": [
       "<div>\n",
       "<style scoped>\n",
       "    .dataframe tbody tr th:only-of-type {\n",
       "        vertical-align: middle;\n",
       "    }\n",
       "\n",
       "    .dataframe tbody tr th {\n",
       "        vertical-align: top;\n",
       "    }\n",
       "\n",
       "    .dataframe thead th {\n",
       "        text-align: right;\n",
       "    }\n",
       "</style>\n",
       "<table border=\"1\" class=\"dataframe\">\n",
       "  <thead>\n",
       "    <tr style=\"text-align: right;\">\n",
       "      <th></th>\n",
       "      <th>Y</th>\n",
       "      <th>Pclass</th>\n",
       "      <th>Sex</th>\n",
       "      <th>Age</th>\n",
       "      <th>SibSp</th>\n",
       "      <th>Parch</th>\n",
       "      <th>Ticket</th>\n",
       "      <th>Fare</th>\n",
       "      <th>Embarked</th>\n",
       "      <th>Cabin_section</th>\n",
       "    </tr>\n",
       "    <tr>\n",
       "      <th>PassengerId</th>\n",
       "      <th></th>\n",
       "      <th></th>\n",
       "      <th></th>\n",
       "      <th></th>\n",
       "      <th></th>\n",
       "      <th></th>\n",
       "      <th></th>\n",
       "      <th></th>\n",
       "      <th></th>\n",
       "      <th></th>\n",
       "    </tr>\n",
       "  </thead>\n",
       "  <tbody>\n",
       "    <tr>\n",
       "      <th>1</th>\n",
       "      <td>0</td>\n",
       "      <td>3</td>\n",
       "      <td>1</td>\n",
       "      <td>22.0</td>\n",
       "      <td>1</td>\n",
       "      <td>0</td>\n",
       "      <td>523</td>\n",
       "      <td>7.2500</td>\n",
       "      <td>2</td>\n",
       "      <td>8</td>\n",
       "    </tr>\n",
       "    <tr>\n",
       "      <th>2</th>\n",
       "      <td>1</td>\n",
       "      <td>1</td>\n",
       "      <td>0</td>\n",
       "      <td>38.0</td>\n",
       "      <td>1</td>\n",
       "      <td>0</td>\n",
       "      <td>596</td>\n",
       "      <td>71.2833</td>\n",
       "      <td>0</td>\n",
       "      <td>2</td>\n",
       "    </tr>\n",
       "    <tr>\n",
       "      <th>3</th>\n",
       "      <td>1</td>\n",
       "      <td>3</td>\n",
       "      <td>0</td>\n",
       "      <td>26.0</td>\n",
       "      <td>0</td>\n",
       "      <td>0</td>\n",
       "      <td>669</td>\n",
       "      <td>7.9250</td>\n",
       "      <td>2</td>\n",
       "      <td>8</td>\n",
       "    </tr>\n",
       "    <tr>\n",
       "      <th>4</th>\n",
       "      <td>1</td>\n",
       "      <td>1</td>\n",
       "      <td>0</td>\n",
       "      <td>35.0</td>\n",
       "      <td>1</td>\n",
       "      <td>0</td>\n",
       "      <td>49</td>\n",
       "      <td>53.1000</td>\n",
       "      <td>2</td>\n",
       "      <td>2</td>\n",
       "    </tr>\n",
       "    <tr>\n",
       "      <th>5</th>\n",
       "      <td>0</td>\n",
       "      <td>3</td>\n",
       "      <td>1</td>\n",
       "      <td>35.0</td>\n",
       "      <td>0</td>\n",
       "      <td>0</td>\n",
       "      <td>472</td>\n",
       "      <td>8.0500</td>\n",
       "      <td>2</td>\n",
       "      <td>8</td>\n",
       "    </tr>\n",
       "  </tbody>\n",
       "</table>\n",
       "</div>"
      ],
      "text/plain": [
       "             Y  Pclass  Sex   Age  SibSp  Parch  Ticket     Fare  Embarked  \\\n",
       "PassengerId                                                                  \n",
       "1            0       3    1  22.0      1      0     523   7.2500         2   \n",
       "2            1       1    0  38.0      1      0     596  71.2833         0   \n",
       "3            1       3    0  26.0      0      0     669   7.9250         2   \n",
       "4            1       1    0  35.0      1      0      49  53.1000         2   \n",
       "5            0       3    1  35.0      0      0     472   8.0500         2   \n",
       "\n",
       "             Cabin_section  \n",
       "PassengerId                 \n",
       "1                        8  \n",
       "2                        2  \n",
       "3                        8  \n",
       "4                        2  \n",
       "5                        8  "
      ]
     },
     "execution_count": 27,
     "metadata": {},
     "output_type": "execute_result"
    }
   ],
   "source": [
    "dtf.head()"
   ]
  },
  {
   "cell_type": "code",
   "execution_count": 28,
   "id": "21a706d9",
   "metadata": {},
   "outputs": [],
   "source": [
    "dtf[\"Age\"] = dtf[\"Age\"].fillna(dtf[\"Age\"].mean())"
   ]
  },
  {
   "cell_type": "code",
   "execution_count": 29,
   "id": "7e5001c1",
   "metadata": {},
   "outputs": [
    {
     "name": "stdout",
     "output_type": "stream",
     "text": [
      "X_train shape: (623, 9) | X_test shape: (268, 9)\n",
      "y_train mean: 0.4 | y_test mean: 0.35\n",
      "10 features: ['Pclass', 'Sex', 'Age', 'SibSp', 'Parch', 'Ticket', 'Fare', 'Embarked', 'Cabin_section']\n"
     ]
    }
   ],
   "source": [
    "## split data\n",
    "dtf_train, dtf_test = model_selection.train_test_split(dtf, \n",
    "                      test_size=0.3)\n",
    "\n",
    "## print info\n",
    "print(\"X_train shape:\", dtf_train.drop(\"Y\",axis=1).shape, \"| X_test shape:\", dtf_test.drop(\"Y\",axis=1).shape)\n",
    "print(\"y_train mean:\", round(np.mean(dtf_train[\"Y\"]),2), \"| y_test mean:\", round(np.mean(dtf_test[\"Y\"]),2))\n",
    "print(dtf_train.shape[1], \"features:\", dtf_train.drop(\"Y\",axis=1).columns.to_list())"
   ]
  },
  {
   "cell_type": "code",
   "execution_count": 30,
   "id": "152cadbf",
   "metadata": {},
   "outputs": [
    {
     "name": "stdout",
     "output_type": "stream",
     "text": [
      "             Sex  Sex_1\n",
      "PassengerId            \n",
      "764            0      0\n",
      "732            1      1\n",
      "54             0      0\n",
      "145            1      1\n",
      "693            1      1\n"
     ]
    }
   ],
   "source": [
    "## create dummy\n",
    "dummy = pd.get_dummies(dtf_train[\"Sex\"], prefix=\"Sex\",drop_first=True)\n",
    "dtf_train= pd.concat([dtf_train, dummy], axis=1)\n",
    "print( dtf_train.filter(like=\"Sex\", axis=1).head() )\n",
    "## drop the original categorical column\n",
    "dtf = dtf_train.drop(\"Sex\", axis=1)"
   ]
  },
  {
   "cell_type": "code",
   "execution_count": 31,
   "id": "1dd5a75f",
   "metadata": {},
   "outputs": [
    {
     "data": {
      "text/html": [
       "<div>\n",
       "<style scoped>\n",
       "    .dataframe tbody tr th:only-of-type {\n",
       "        vertical-align: middle;\n",
       "    }\n",
       "\n",
       "    .dataframe tbody tr th {\n",
       "        vertical-align: top;\n",
       "    }\n",
       "\n",
       "    .dataframe thead th {\n",
       "        text-align: right;\n",
       "    }\n",
       "</style>\n",
       "<table border=\"1\" class=\"dataframe\">\n",
       "  <thead>\n",
       "    <tr style=\"text-align: right;\">\n",
       "      <th></th>\n",
       "      <th>Pclass</th>\n",
       "      <th>Sex</th>\n",
       "      <th>Age</th>\n",
       "      <th>SibSp</th>\n",
       "      <th>Parch</th>\n",
       "      <th>Ticket</th>\n",
       "      <th>Fare</th>\n",
       "      <th>Embarked</th>\n",
       "      <th>Cabin_section</th>\n",
       "      <th>Sex_1</th>\n",
       "      <th>Y</th>\n",
       "    </tr>\n",
       "    <tr>\n",
       "      <th>PassengerId</th>\n",
       "      <th></th>\n",
       "      <th></th>\n",
       "      <th></th>\n",
       "      <th></th>\n",
       "      <th></th>\n",
       "      <th></th>\n",
       "      <th></th>\n",
       "      <th></th>\n",
       "      <th></th>\n",
       "      <th></th>\n",
       "      <th></th>\n",
       "    </tr>\n",
       "  </thead>\n",
       "  <tbody>\n",
       "    <tr>\n",
       "      <th>764</th>\n",
       "      <td>0.0</td>\n",
       "      <td>0.0</td>\n",
       "      <td>0.447097</td>\n",
       "      <td>0.125</td>\n",
       "      <td>0.333333</td>\n",
       "      <td>0.048529</td>\n",
       "      <td>0.234224</td>\n",
       "      <td>0.666667</td>\n",
       "      <td>0.125</td>\n",
       "      <td>0.0</td>\n",
       "      <td>1</td>\n",
       "    </tr>\n",
       "    <tr>\n",
       "      <th>732</th>\n",
       "      <td>1.0</td>\n",
       "      <td>1.0</td>\n",
       "      <td>0.132948</td>\n",
       "      <td>0.000</td>\n",
       "      <td>0.000000</td>\n",
       "      <td>0.317647</td>\n",
       "      <td>0.036671</td>\n",
       "      <td>0.000000</td>\n",
       "      <td>1.000</td>\n",
       "      <td>1.0</td>\n",
       "      <td>0</td>\n",
       "    </tr>\n",
       "    <tr>\n",
       "      <th>54</th>\n",
       "      <td>0.5</td>\n",
       "      <td>0.0</td>\n",
       "      <td>0.359135</td>\n",
       "      <td>0.125</td>\n",
       "      <td>0.000000</td>\n",
       "      <td>0.351471</td>\n",
       "      <td>0.050749</td>\n",
       "      <td>0.666667</td>\n",
       "      <td>1.000</td>\n",
       "      <td>0.0</td>\n",
       "      <td>1</td>\n",
       "    </tr>\n",
       "    <tr>\n",
       "      <th>145</th>\n",
       "      <td>0.5</td>\n",
       "      <td>1.0</td>\n",
       "      <td>0.220910</td>\n",
       "      <td>0.000</td>\n",
       "      <td>0.000000</td>\n",
       "      <td>0.173529</td>\n",
       "      <td>0.022447</td>\n",
       "      <td>0.666667</td>\n",
       "      <td>1.000</td>\n",
       "      <td>1.0</td>\n",
       "      <td>0</td>\n",
       "    </tr>\n",
       "    <tr>\n",
       "      <th>693</th>\n",
       "      <td>1.0</td>\n",
       "      <td>1.0</td>\n",
       "      <td>0.367921</td>\n",
       "      <td>0.000</td>\n",
       "      <td>0.000000</td>\n",
       "      <td>0.117647</td>\n",
       "      <td>0.110272</td>\n",
       "      <td>0.666667</td>\n",
       "      <td>1.000</td>\n",
       "      <td>1.0</td>\n",
       "      <td>1</td>\n",
       "    </tr>\n",
       "  </tbody>\n",
       "</table>\n",
       "</div>"
      ],
      "text/plain": [
       "             Pclass  Sex       Age  SibSp     Parch    Ticket      Fare  \\\n",
       "PassengerId                                                               \n",
       "764             0.0  0.0  0.447097  0.125  0.333333  0.048529  0.234224   \n",
       "732             1.0  1.0  0.132948  0.000  0.000000  0.317647  0.036671   \n",
       "54              0.5  0.0  0.359135  0.125  0.000000  0.351471  0.050749   \n",
       "145             0.5  1.0  0.220910  0.000  0.000000  0.173529  0.022447   \n",
       "693             1.0  1.0  0.367921  0.000  0.000000  0.117647  0.110272   \n",
       "\n",
       "             Embarked  Cabin_section  Sex_1  Y  \n",
       "PassengerId                                     \n",
       "764          0.666667          0.125    0.0  1  \n",
       "732          0.000000          1.000    1.0  0  \n",
       "54           0.666667          1.000    0.0  1  \n",
       "145          0.666667          1.000    1.0  0  \n",
       "693          0.666667          1.000    1.0  1  "
      ]
     },
     "execution_count": 31,
     "metadata": {},
     "output_type": "execute_result"
    }
   ],
   "source": [
    "scaler = preprocessing.MinMaxScaler(feature_range=(0,1))\n",
    "X = scaler.fit_transform(dtf_train.drop(\"Y\", axis=1))\n",
    "dtf_scaled= pd.DataFrame(X, columns=dtf_train.drop(\"Y\", axis=1).columns, index=dtf_train.index)\n",
    "dtf_scaled[\"Y\"] = dtf_train[\"Y\"]\n",
    "dtf_scaled.head()"
   ]
  },
  {
   "cell_type": "markdown",
   "id": "79915950",
   "metadata": {},
   "source": [
    "<b>Feature selection</b>"
   ]
  },
  {
   "cell_type": "code",
   "execution_count": 32,
   "id": "0c7a28ba",
   "metadata": {},
   "outputs": [
    {
     "data": {
      "image/png": "[encoded data removed]",
      "text/plain": [
       "<Figure size 1008x720 with 2 Axes>"
      ]
     },
     "metadata": {
      "needs_background": "light"
     },
     "output_type": "display_data"
    }
   ],
   "source": [
    "#Feature selection is the process of selecting a subset of relevant variables to build the machine learning model. \n",
    "#It makes the model easier to interpret and reduces overfitting (when the model adapts too much to the training data \n",
    "#and performs badly outside the train set)\n",
    "\n",
    "plt.figure(figsize=(14,10))\n",
    "corr_matrix = dtf.copy()\n",
    "for col in corr_matrix.columns:\n",
    "    if corr_matrix[col].dtype == \"O\":\n",
    "         corr_matrix[col] = corr_matrix[col].factorize(sort=True)[0]\n",
    "corr_matrix = corr_matrix.corr(method=\"pearson\")\n",
    "sns.heatmap(corr_matrix, vmin=-1., vmax=1., annot=True, fmt='.2f', cmap=\"YlGnBu\", cbar=True, linewidths=0.5)\n",
    "plt.title(\"pearson correlation\")\n",
    "plt.show()"
   ]
  },
  {
   "cell_type": "code",
   "execution_count": 33,
   "id": "19bda768",
   "metadata": {},
   "outputs": [
    {
     "data": {
      "image/png": "[encoded data removed]",
      "text/plain": [
       "<Figure size 1008x720 with 1 Axes>"
      ]
     },
     "metadata": {
      "needs_background": "light"
     },
     "output_type": "display_data"
    }
   ],
   "source": [
    "#LASSO regularization is a regression analysis method that performs both variable selection \n",
    "#and regularization in order to enhance accuracy and interpretability.\n",
    "\n",
    "plt.figure(figsize=(14,10))\n",
    "X = dtf_train.drop(\"Y\", axis=1).values\n",
    "y = dtf_train[\"Y\"].values\n",
    "feature_names = dtf_train.drop(\"Y\", axis=1).columns\n",
    "## Anova\n",
    "selector = feature_selection.SelectKBest(score_func=  \n",
    "               feature_selection.f_classif, k=10).fit(X,y)\n",
    "anova_selected_features = feature_names[selector.get_support()]\n",
    "\n",
    "## Lasso regularization\n",
    "selector = feature_selection.SelectFromModel(estimator= \n",
    "              linear_model.LogisticRegression(C=1, penalty=\"l1\", \n",
    "              solver='liblinear'), max_features=10).fit(X,y)\n",
    "lasso_selected_features = feature_names[selector.get_support()]\n",
    " \n",
    "## Plot\n",
    "dtf_features = pd.DataFrame({\"features\":feature_names})\n",
    "dtf_features[\"anova\"] = dtf_features[\"features\"].apply(lambda x: \"anova\" if x in anova_selected_features else \"\")\n",
    "dtf_features[\"num1\"] = dtf_features[\"features\"].apply(lambda x: 1 if x in anova_selected_features else 0)\n",
    "dtf_features[\"lasso\"] = dtf_features[\"features\"].apply(lambda x: \"lasso\" if x in lasso_selected_features else \"\")\n",
    "dtf_features[\"num2\"] = dtf_features[\"features\"].apply(lambda x: 1 if x in lasso_selected_features else 0)\n",
    "dtf_features[\"method\"] = dtf_features[[\"anova\",\"lasso\"]].apply(lambda x: (x[0]+\" \"+x[1]).strip(), axis=1)\n",
    "dtf_features[\"selection\"] = dtf_features[\"num1\"] + dtf_features[\"num2\"]\n",
    "sns.barplot(y=\"features\", x=\"selection\", hue=\"method\", data=dtf_features.sort_values(\"selection\", ascending=False), dodge=False)\n",
    "\n",
    "plt.show()"
   ]
  },
  {
   "cell_type": "markdown",
   "id": "ad68cf13",
   "metadata": {},
   "source": [
    "The blue features are the ones selected by both ANOVA and LASSO, the others are selected by just one of the two methods"
   ]
  },
  {
   "cell_type": "code",
   "execution_count": 34,
   "id": "601263a2",
   "metadata": {},
   "outputs": [
    {
     "data": {
      "text/html": [
       "<div>\n",
       "<style scoped>\n",
       "    .dataframe tbody tr th:only-of-type {\n",
       "        vertical-align: middle;\n",
       "    }\n",
       "\n",
       "    .dataframe tbody tr th {\n",
       "        vertical-align: top;\n",
       "    }\n",
       "\n",
       "    .dataframe thead th {\n",
       "        text-align: right;\n",
       "    }\n",
       "</style>\n",
       "<table border=\"1\" class=\"dataframe\">\n",
       "  <thead>\n",
       "    <tr style=\"text-align: right;\">\n",
       "      <th></th>\n",
       "      <th>Y</th>\n",
       "      <th>Pclass</th>\n",
       "      <th>Sex</th>\n",
       "      <th>Age</th>\n",
       "      <th>SibSp</th>\n",
       "      <th>Parch</th>\n",
       "      <th>Ticket</th>\n",
       "      <th>Fare</th>\n",
       "      <th>Embarked</th>\n",
       "      <th>Cabin_section</th>\n",
       "      <th>Sex_1</th>\n",
       "    </tr>\n",
       "    <tr>\n",
       "      <th>PassengerId</th>\n",
       "      <th></th>\n",
       "      <th></th>\n",
       "      <th></th>\n",
       "      <th></th>\n",
       "      <th></th>\n",
       "      <th></th>\n",
       "      <th></th>\n",
       "      <th></th>\n",
       "      <th></th>\n",
       "      <th></th>\n",
       "      <th></th>\n",
       "    </tr>\n",
       "  </thead>\n",
       "  <tbody>\n",
       "    <tr>\n",
       "      <th>764</th>\n",
       "      <td>1</td>\n",
       "      <td>1</td>\n",
       "      <td>0</td>\n",
       "      <td>36.000000</td>\n",
       "      <td>1</td>\n",
       "      <td>2</td>\n",
       "      <td>33</td>\n",
       "      <td>120.0000</td>\n",
       "      <td>2</td>\n",
       "      <td>1</td>\n",
       "      <td>0</td>\n",
       "    </tr>\n",
       "    <tr>\n",
       "      <th>732</th>\n",
       "      <td>0</td>\n",
       "      <td>3</td>\n",
       "      <td>1</td>\n",
       "      <td>11.000000</td>\n",
       "      <td>0</td>\n",
       "      <td>0</td>\n",
       "      <td>216</td>\n",
       "      <td>18.7875</td>\n",
       "      <td>0</td>\n",
       "      <td>8</td>\n",
       "      <td>1</td>\n",
       "    </tr>\n",
       "    <tr>\n",
       "      <th>54</th>\n",
       "      <td>1</td>\n",
       "      <td>2</td>\n",
       "      <td>0</td>\n",
       "      <td>29.000000</td>\n",
       "      <td>1</td>\n",
       "      <td>0</td>\n",
       "      <td>239</td>\n",
       "      <td>26.0000</td>\n",
       "      <td>2</td>\n",
       "      <td>8</td>\n",
       "      <td>0</td>\n",
       "    </tr>\n",
       "    <tr>\n",
       "      <th>145</th>\n",
       "      <td>0</td>\n",
       "      <td>2</td>\n",
       "      <td>1</td>\n",
       "      <td>18.000000</td>\n",
       "      <td>0</td>\n",
       "      <td>0</td>\n",
       "      <td>118</td>\n",
       "      <td>11.5000</td>\n",
       "      <td>2</td>\n",
       "      <td>8</td>\n",
       "      <td>1</td>\n",
       "    </tr>\n",
       "    <tr>\n",
       "      <th>693</th>\n",
       "      <td>1</td>\n",
       "      <td>3</td>\n",
       "      <td>1</td>\n",
       "      <td>29.699118</td>\n",
       "      <td>0</td>\n",
       "      <td>0</td>\n",
       "      <td>80</td>\n",
       "      <td>56.4958</td>\n",
       "      <td>2</td>\n",
       "      <td>8</td>\n",
       "      <td>1</td>\n",
       "    </tr>\n",
       "  </tbody>\n",
       "</table>\n",
       "</div>"
      ],
      "text/plain": [
       "             Y  Pclass  Sex        Age  SibSp  Parch  Ticket      Fare  \\\n",
       "PassengerId                                                              \n",
       "764          1       1    0  36.000000      1      2      33  120.0000   \n",
       "732          0       3    1  11.000000      0      0     216   18.7875   \n",
       "54           1       2    0  29.000000      1      0     239   26.0000   \n",
       "145          0       2    1  18.000000      0      0     118   11.5000   \n",
       "693          1       3    1  29.699118      0      0      80   56.4958   \n",
       "\n",
       "             Embarked  Cabin_section  Sex_1  \n",
       "PassengerId                                  \n",
       "764                 2              1      0  \n",
       "732                 0              8      1  \n",
       "54                  2              8      0  \n",
       "145                 2              8      1  \n",
       "693                 2              8      1  "
      ]
     },
     "execution_count": 34,
     "metadata": {},
     "output_type": "execute_result"
    }
   ],
   "source": [
    "dtf_train.head()"
   ]
  },
  {
   "cell_type": "code",
   "execution_count": 35,
   "id": "26d5c8ee",
   "metadata": {},
   "outputs": [
    {
     "data": {
      "image/png": "[encoded data removed]",
      "text/plain": [
       "<Figure size 1008x720 with 2 Axes>"
      ]
     },
     "metadata": {
      "needs_background": "light"
     },
     "output_type": "display_data"
    }
   ],
   "source": [
    "#Random forest is an ensemble method that consists of a number of decision trees in which every node is a condition \n",
    "#on a single feature, designed to split the dataset into two so that similar response values end up in the same set. \n",
    "#Features importance is computed from how much each feature decreases the entropy in a tree.\n",
    "\n",
    "\n",
    "X = dtf_train.drop(\"Y\", axis=1).values\n",
    "y = dtf_train[\"Y\"].values\n",
    "feature_names = dtf_train.drop(\"Y\", axis=1).columns.tolist()\n",
    "## Importance\n",
    "model = ensemble.RandomForestClassifier(n_estimators=100,criterion=\"entropy\", random_state=0)\n",
    "model.fit(X,y)\n",
    "importances = model.feature_importances_\n",
    "## Put in a pandas dtf\n",
    "dtf_importances = pd.DataFrame({\"IMPORTANCE\":importances, \n",
    "            \"VARIABLE\":feature_names}).sort_values(\"IMPORTANCE\", \n",
    "            ascending=False)\n",
    "dtf_importances['cumsum'] = dtf_importances['IMPORTANCE'].cumsum(axis=0)\n",
    "dtf_importances = dtf_importances.set_index(\"VARIABLE\")\n",
    "    \n",
    "## Plot\n",
    "fig, ax = plt.subplots(nrows=1, ncols=2, sharex=False, sharey=False,figsize=(14,10))\n",
    "fig.suptitle(\"Features Importance\", fontsize=20)\n",
    "ax[0].title.set_text('variables')\n",
    "dtf_importances[[\"IMPORTANCE\"]].sort_values(by=\"IMPORTANCE\").plot(kind=\"barh\", legend=False, ax=ax[0]).grid(axis=\"x\")\n",
    "ax[0].set(ylabel=\"\")\n",
    "ax[1].title.set_text('cumulative')\n",
    "dtf_importances[[\"cumsum\"]].plot(kind=\"line\", linewidth=4, \n",
    "                                 legend=False, ax=ax[1])\n",
    "ax[1].set(xlabel=\"\", xticks=np.arange(len(dtf_importances)), \n",
    "          xticklabels=dtf_importances.index)\n",
    "plt.xticks(rotation=70)\n",
    "plt.grid(axis='both')\n",
    "plt.show()"
   ]
  },
  {
   "cell_type": "code",
   "execution_count": 36,
   "id": "2c8aedb8",
   "metadata": {},
   "outputs": [],
   "source": [
    "X_names = [\"Age\", \"Fare\", \"Sex\", \"Pclass\", \"Parch\",\"Cabin_section\", \"Embarked\"]\n",
    "X_train = dtf_train[X_names].values\n",
    "y_train = dtf_train[\"Y\"].values\n",
    "X_test = dtf_test[X_names].values\n",
    "y_test = dtf_test[\"Y\"].values"
   ]
  },
  {
   "cell_type": "code",
   "execution_count": 37,
   "id": "5a4f6f32",
   "metadata": {},
   "outputs": [
    {
     "name": "stdout",
     "output_type": "stream",
     "text": [
      "Best Model parameters: {'subsample': 0.8, 'n_estimators': 250, 'min_samples_split': 6, 'min_samples_leaf': 3, 'max_features': 3, 'max_depth': 3, 'learning_rate': 0.01}\n",
      "Best Model mean accuracy: 0.8314451612903225\n"
     ]
    }
   ],
   "source": [
    "## call model\n",
    "model = ensemble.GradientBoostingClassifier()\n",
    "## define hyperparameters combinations to try\n",
    "param_dic = {'learning_rate':[0.15,0.1,0.05,0.01,0.005,0.001],      #weighting factor for the corrections by new trees when added to the model\n",
    "'n_estimators':[100,250,500,750,1000,1250,1500,1750],  #number of trees added to the model\n",
    "'max_depth':[2,3,4,5,6,7],    #maximum depth of the tree\n",
    "'min_samples_split':[2,4,6,8,10,20,40,60,100],    #sets the minimum number of samples to split\n",
    "'min_samples_leaf':[1,3,5,7,9],     #the minimum number of samples to form a leaf\n",
    "'max_features':[2,3,4,5,6,7],     #square root of features is usually a good starting point\n",
    "'subsample':[0.7,0.75,0.8,0.85,0.9,0.95,1]}       #the fraction of samples to be used for fitting the individual base learners. Values lower than 1 generally lead to a reduction of variance and an increase in bias.\n",
    "## random search\n",
    "random_search = model_selection.RandomizedSearchCV(model, \n",
    "       param_distributions=param_dic, n_iter=1000, \n",
    "       scoring=\"accuracy\").fit(X_train, y_train)\n",
    "print(\"Best Model parameters:\", random_search.best_params_)\n",
    "print(\"Best Model mean accuracy:\", random_search.best_score_)\n",
    "model = random_search.best_estimator_"
   ]
  },
  {
   "cell_type": "code",
   "execution_count": 38,
   "id": "b536e561",
   "metadata": {},
   "outputs": [
    {
     "name": "stderr",
     "output_type": "stream",
     "text": [
      "<ipython-input-38-2d22aaebe46f>:10: DeprecationWarning: scipy.interp is deprecated and will be removed in SciPy 2.0.0, use numpy.interp instead\n",
      "  tprs.append(scipy.interp(mean_fpr, fpr, tpr))\n",
      "<ipython-input-38-2d22aaebe46f>:10: DeprecationWarning: scipy.interp is deprecated and will be removed in SciPy 2.0.0, use numpy.interp instead\n",
      "  tprs.append(scipy.interp(mean_fpr, fpr, tpr))\n",
      "<ipython-input-38-2d22aaebe46f>:10: DeprecationWarning: scipy.interp is deprecated and will be removed in SciPy 2.0.0, use numpy.interp instead\n",
      "  tprs.append(scipy.interp(mean_fpr, fpr, tpr))\n",
      "<ipython-input-38-2d22aaebe46f>:10: DeprecationWarning: scipy.interp is deprecated and will be removed in SciPy 2.0.0, use numpy.interp instead\n",
      "  tprs.append(scipy.interp(mean_fpr, fpr, tpr))\n",
      "<ipython-input-38-2d22aaebe46f>:10: DeprecationWarning: scipy.interp is deprecated and will be removed in SciPy 2.0.0, use numpy.interp instead\n",
      "  tprs.append(scipy.interp(mean_fpr, fpr, tpr))\n",
      "<ipython-input-38-2d22aaebe46f>:10: DeprecationWarning: scipy.interp is deprecated and will be removed in SciPy 2.0.0, use numpy.interp instead\n",
      "  tprs.append(scipy.interp(mean_fpr, fpr, tpr))\n",
      "<ipython-input-38-2d22aaebe46f>:10: DeprecationWarning: scipy.interp is deprecated and will be removed in SciPy 2.0.0, use numpy.interp instead\n",
      "  tprs.append(scipy.interp(mean_fpr, fpr, tpr))\n",
      "<ipython-input-38-2d22aaebe46f>:10: DeprecationWarning: scipy.interp is deprecated and will be removed in SciPy 2.0.0, use numpy.interp instead\n",
      "  tprs.append(scipy.interp(mean_fpr, fpr, tpr))\n",
      "<ipython-input-38-2d22aaebe46f>:10: DeprecationWarning: scipy.interp is deprecated and will be removed in SciPy 2.0.0, use numpy.interp instead\n",
      "  tprs.append(scipy.interp(mean_fpr, fpr, tpr))\n",
      "<ipython-input-38-2d22aaebe46f>:10: DeprecationWarning: scipy.interp is deprecated and will be removed in SciPy 2.0.0, use numpy.interp instead\n",
      "  tprs.append(scipy.interp(mean_fpr, fpr, tpr))\n"
     ]
    },
    {
     "data": {
      "image/png": "[encoded data removed]",
      "text/plain": [
       "<Figure size 432x288 with 1 Axes>"
      ]
     },
     "metadata": {
      "needs_background": "light"
     },
     "output_type": "display_data"
    }
   ],
   "source": [
    "cv = model_selection.StratifiedKFold(n_splits=10, shuffle=True)\n",
    "tprs, aucs = [], []\n",
    "mean_fpr = np.linspace(0,1,100)\n",
    "fig = plt.figure()\n",
    "i = 1\n",
    "for train, test in cv.split(X_train, y_train):\n",
    "   prediction = model.fit(X_train[train],\n",
    "                y_train[train]).predict_proba(X_train[test])\n",
    "   fpr, tpr, t = metrics.roc_curve(y_train[test], prediction[:, 1])\n",
    "   tprs.append(scipy.interp(mean_fpr, fpr, tpr))\n",
    "   roc_auc = metrics.auc(fpr, tpr)\n",
    "   aucs.append(roc_auc)\n",
    "   plt.plot(fpr, tpr, lw=2, alpha=0.3, label='ROC fold %d (AUC = %0.2f)' % (i, roc_auc))\n",
    "   i = i+1\n",
    "   \n",
    "plt.plot([0,1], [0,1], linestyle='--', lw=2, color='black')\n",
    "mean_tpr = np.mean(tprs, axis=0)\n",
    "mean_auc = metrics.auc(mean_fpr, mean_tpr)\n",
    "plt.plot(mean_fpr, mean_tpr, color='blue', label=r'Mean ROC (AUC = %0.2f )' % (mean_auc), lw=2, alpha=1)\n",
    "plt.xlabel('False Positive Rate')\n",
    "plt.ylabel('True Positive Rate')\n",
    "plt.title('K-Fold Validation')\n",
    "plt.legend(loc=\"lower right\")\n",
    "plt.show()"
   ]
  },
  {
   "cell_type": "code",
   "execution_count": 39,
   "id": "323a0909",
   "metadata": {},
   "outputs": [],
   "source": [
    "## train\n",
    "model.fit(X_train, y_train)\n",
    "\n",
    "## test\n",
    "predicted_prob = model.predict_proba(X_test)[:,1]\n",
    "predicted = model.predict(X_test)"
   ]
  },
  {
   "cell_type": "code",
   "execution_count": 40,
   "id": "cc6419bd",
   "metadata": {},
   "outputs": [
    {
     "name": "stdout",
     "output_type": "stream",
     "text": [
      "Accuracy (overall correct predictions): 0.83\n",
      "Auc: 0.86\n",
      "Recall (all 1s predicted right): 0.61\n",
      "Precision (confidence when predicting a 1): 0.87\n",
      "Detail:\n",
      "              precision    recall  f1-score   support\n",
      "\n",
      "           0       0.82      0.95      0.88       173\n",
      "           1       0.87      0.61      0.72        95\n",
      "\n",
      "    accuracy                           0.83       268\n",
      "   macro avg       0.84      0.78      0.80       268\n",
      "weighted avg       0.83      0.83      0.82       268\n",
      "\n"
     ]
    }
   ],
   "source": [
    "## Accuray e AUC\n",
    "accuracy = metrics.accuracy_score(y_test, predicted)\n",
    "auc = metrics.roc_auc_score(y_test, predicted_prob)\n",
    "print(\"Accuracy (overall correct predictions):\",  round(accuracy,2))\n",
    "print(\"Auc:\", round(auc,2))\n",
    "    \n",
    "## Precision e Recall\n",
    "recall = metrics.recall_score(y_test, predicted)\n",
    "precision = metrics.precision_score(y_test, predicted)\n",
    "print(\"Recall (all 1s predicted right):\", round(recall,2))\n",
    "print(\"Precision (confidence when predicting a 1):\", round(precision,2))\n",
    "print(\"Detail:\")\n",
    "print(metrics.classification_report(y_test, predicted, target_names=[str(i) for i in np.unique(y_test)]))"
   ]
  },
  {
   "cell_type": "code",
   "execution_count": 41,
   "id": "7d27afb4",
   "metadata": {},
   "outputs": [
    {
     "data": {
      "image/png": "[encoded data removed]",
      "text/plain": [
       "<Figure size 432x288 with 1 Axes>"
      ]
     },
     "metadata": {
      "needs_background": "light"
     },
     "output_type": "display_data"
    }
   ],
   "source": [
    "classes = np.unique(y_test)\n",
    "fig, ax = plt.subplots()\n",
    "cm = metrics.confusion_matrix(y_test, predicted, labels=classes)\n",
    "sns.heatmap(cm, annot=True, fmt='d', cmap=plt.cm.Blues, cbar=False)\n",
    "ax.set(xlabel=\"Pred\", ylabel=\"True\", title=\"Confusion matrix\")\n",
    "ax.set_yticklabels(labels=classes, rotation=0)\n",
    "plt.show()"
   ]
  }
 ],
 "metadata": {
  "kernelspec": {
   "display_name": "Python 3",
   "language": "python",
   "name": "python3"
  },
  "language_info": {
   "codemirror_mode": {
    "name": "ipython",
    "version": 3
   },
   "file_extension": ".py",
   "mimetype": "text/x-python",
   "name": "python",
   "nbconvert_exporter": "python",
   "pygments_lexer": "ipython3",
   "version": "3.8.8"
  }
 },
 "nbformat": 4,
 "nbformat_minor": 5
}
